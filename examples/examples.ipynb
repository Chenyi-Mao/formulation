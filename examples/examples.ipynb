{
 "cells": [
  {
   "cell_type": "markdown",
   "metadata": {},
   "source": [
    "# Example notebook\n",
    " This notebook contains demo for how each module works and expected outputs\n",
    "### Part 1 - Get everything ready\n",
    "Importing modules"
   ]
  },
  {
   "cell_type": "code",
   "execution_count": 1,
   "metadata": {
    "scrolled": true
   },
   "outputs": [],
   "source": [
    "import sys\n",
    "sys.path.append('..')\n",
    "from formulation.modules import *\n",
    "import numpy as np\n",
    "import pandas as pd\n",
    "import matplotlib.pyplot as plt\n",
    "\n",
    "from sklearn.model_selection import train_test_split"
   ]
  },
  {
   "cell_type": "markdown",
   "metadata": {},
   "source": [
    "Reading data"
   ]
  },
  {
   "cell_type": "code",
   "execution_count": 2,
   "metadata": {},
   "outputs": [],
   "source": [
    "data = pd.read_csv(\"../formulation/data/FDA_APPROVED.csv\")"
   ]
  },
  {
   "cell_type": "markdown",
   "metadata": {},
   "source": [
    "Defining which features to be used as inputs and outputs"
   ]
  },
  {
   "cell_type": "code",
   "execution_count": 3,
   "metadata": {},
   "outputs": [],
   "source": [
    "NEEDED = ['% Excreted Unchanged in Urine', 'CLogP', 'HBA', 'HBD', 'PSA', 'Formulation']\n",
    "INPUTS = NEEDED[:-1]\n",
    "OUTPUT = NEEDED[-1]"
   ]
  },
  {
   "cell_type": "markdown",
   "metadata": {},
   "source": [
    "## Part 2 - Train the model"
   ]
  },
  {
   "cell_type": "markdown",
   "metadata": {},
   "source": [
    "Eliminating data points with missing values (NaN) and splitting data into train and test sets"
   ]
  },
  {
   "cell_type": "code",
   "execution_count": 4,
   "metadata": {},
   "outputs": [],
   "source": [
    "clean_data = predict_missing_value.data_dropna(data, NEEDED, NEEDED)\n",
    "train, test = train_test_split(clean_data, test_size=0.1, random_state=1010)"
   ]
  },
  {
   "cell_type": "markdown",
   "metadata": {},
   "source": [
    "`classification.predict` function takes in training data and inside the training data, 10% will be used as validation set.  \n",
    "During training, the function will print out feature importance and accuracy on the validation set"
   ]
  },
  {
   "cell_type": "code",
   "execution_count": 5,
   "metadata": {},
   "outputs": [
    {
     "name": "stdout",
     "output_type": "stream",
     "text": [
      "Accuracy: 0.6142857142857143\n",
      "\n",
      " Feature Importance \n",
      " PSA                              0.303958\n",
      "CLogP                            0.267697\n",
      "% Excreted Unchanged in Urine    0.186334\n",
      "HBA                              0.142195\n",
      "HBD                              0.099816\n",
      "dtype: float64\n",
      "\n",
      " Classicifation report\n",
      "               precision    recall  f1-score   support\n",
      "\n",
      "    capsules       0.67      0.12      0.20        17\n",
      "    solution       0.40      0.36      0.38        11\n",
      "     tablets       0.65      0.88      0.75        42\n",
      "\n",
      "    accuracy                           0.61        70\n",
      "   macro avg       0.57      0.45      0.44        70\n",
      "weighted avg       0.61      0.61      0.56        70\n",
      "\n",
      "The predict Classicifation for all \n",
      " ['tablets' 'solution' 'tablets' 'tablets' 'tablets' 'tablets' 'tablets'\n",
      " 'solution' 'solution' 'tablets' 'tablets' 'tablets' 'tablets' 'tablets'\n",
      " 'tablets' 'tablets' 'tablets' 'tablets' 'tablets' 'tablets' 'tablets'\n",
      " 'tablets' 'tablets' 'solution' 'tablets' 'tablets' 'tablets' 'tablets'\n",
      " 'tablets' 'tablets' 'tablets' 'tablets' 'tablets' 'tablets' 'solution'\n",
      " 'tablets' 'tablets' 'tablets' 'tablets' 'tablets' 'tablets' 'capsules'\n",
      " 'solution' 'tablets' 'tablets' 'tablets' 'capsules' 'tablets' 'tablets'\n",
      " 'solution' 'tablets' 'tablets' 'tablets' 'tablets' 'tablets' 'solution'\n",
      " 'tablets' 'tablets' 'tablets' 'tablets' 'capsules' 'tablets' 'tablets'\n",
      " 'tablets' 'tablets' 'tablets' 'tablets' 'solution' 'solution' 'tablets']\n"
     ]
    }
   ],
   "source": [
    "model = classification.predict(train[INPUTS], train[OUTPUT])"
   ]
  },
  {
   "cell_type": "markdown",
   "metadata": {},
   "source": [
    "Using the trained model to predict formulation by calling `predict.predict`"
   ]
  },
  {
   "cell_type": "code",
   "execution_count": 6,
   "metadata": {
    "scrolled": true
   },
   "outputs": [
    {
     "data": {
      "text/plain": [
       "array(['tablets', 'tablets', 'tablets', 'tablets', 'tablets', 'tablets',\n",
       "       'solution', 'tablets', 'tablets', 'tablets', 'capsules', 'tablets',\n",
       "       'tablets', 'tablets', 'tablets', 'solution', 'tablets', 'tablets',\n",
       "       'tablets', 'tablets', 'tablets', 'tablets', 'tablets', 'tablets',\n",
       "       'tablets', 'tablets', 'tablets', 'tablets', 'tablets', 'tablets',\n",
       "       'tablets', 'tablets', 'tablets', 'tablets', 'tablets', 'solution',\n",
       "       'tablets', 'solution', 'tablets', 'tablets', 'capsules',\n",
       "       'solution', 'tablets', 'tablets', 'tablets', 'tablets', 'tablets',\n",
       "       'tablets', 'solution', 'tablets', 'tablets', 'tablets', 'tablets',\n",
       "       'tablets', 'solution', 'tablets', 'tablets', 'solution',\n",
       "       'capsules', 'tablets', 'tablets', 'tablets', 'tablets', 'tablets',\n",
       "       'tablets', 'tablets', 'tablets', 'tablets', 'tablets', 'solution',\n",
       "       'tablets', 'tablets', 'tablets', 'tablets', 'tablets', 'tablets',\n",
       "       'tablets'], dtype=object)"
      ]
     },
     "execution_count": 6,
     "metadata": {},
     "output_type": "execute_result"
    }
   ],
   "source": [
    "predict.predict(model, test[INPUTS])"
   ]
  },
  {
   "cell_type": "markdown",
   "metadata": {},
   "source": [
    "## Part 3 - Fill missing value"
   ]
  },
  {
   "cell_type": "markdown",
   "metadata": {},
   "source": [
    "Sometime, there might be missing values in data set. We can either drop those data or use other methods to fill those data. For example, some features like dose value and percent excreted in urine are easily available but solubility coefficients aren’t. Also, some features are directly relevant to our label, like these 3 features while other features like HBA, HBD, MW are not directly related to the label but they can be good predictors for solubility coefficients. Therefore, we can use these features to fill missing values in solubility parameters."
   ]
  },
  {
   "cell_type": "code",
   "execution_count": 7,
   "metadata": {},
   "outputs": [
    {
     "name": "stdout",
     "output_type": "stream",
     "text": [
      "Coefficient of determination on testing set: 0.49\n",
      "Mean squared error on testing set: 3.06\n",
      "Coefficient of determination on testing set: 0.28\n",
      "Mean squared error on testing set: 2.45\n"
     ]
    }
   ],
   "source": [
    "NEEDED = ['MW Drug', 'MW Sol', 'CLogP', 'HBA', 'HBD', 'PSDA', 'ALOGPS 2.1 solubility', 'Measured LogD74']\n",
    "INPUTS = NEEDED[:-1]\n",
    "OUTPUT = NEEDED[-1]\n",
    "\n",
    "filled_data = predict_missing_value.fill_missing_value(data, NEEDED, INPUTS, OUTPUT)\n",
    "\n",
    "\n",
    "NEEDED = ['MW Drug', 'MW Sol', 'CLogP', 'HBA', 'HBD', 'PSDA', 'ALOGPS 2.1 solubility', 'Measured LogS (molar)']\n",
    "INPUTS = NEEDED[:-1]\n",
    "OUTPUT = NEEDED[-1]\n",
    "\n",
    "filled_data = predict_missing_value.fill_missing_value(filled_data, NEEDED, INPUTS, OUTPUT)"
   ]
  },
  {
   "cell_type": "markdown",
   "metadata": {},
   "source": [
    "Use the filled data to train a new model"
   ]
  },
  {
   "cell_type": "code",
   "execution_count": 8,
   "metadata": {},
   "outputs": [
    {
     "name": "stdout",
     "output_type": "stream",
     "text": [
      "Accuracy: 0.6493506493506493\n",
      "\n",
      " Feature Importance \n",
      " PSA                              0.270458\n",
      "Measured LogD74                  0.205633\n",
      "Measured LogS (molar)            0.194409\n",
      "CLogP                            0.187827\n",
      "% Excreted Unchanged in Urine    0.141673\n",
      "dtype: float64\n",
      "\n",
      " Classicifation report\n",
      "               precision    recall  f1-score   support\n",
      "\n",
      "    capsules       0.50      0.08      0.14        12\n",
      "    solution       0.62      0.29      0.40        17\n",
      "     tablets       0.66      0.92      0.77        48\n",
      "\n",
      "    accuracy                           0.65        77\n",
      "   macro avg       0.59      0.43      0.44        77\n",
      "weighted avg       0.63      0.65      0.59        77\n",
      "\n",
      "The predict Classicifation for all \n",
      " ['tablets' 'tablets' 'tablets' 'tablets' 'capsules' 'tablets' 'solution'\n",
      " 'tablets' 'solution' 'tablets' 'tablets' 'tablets' 'tablets' 'solution'\n",
      " 'tablets' 'solution' 'tablets' 'tablets' 'tablets' 'tablets' 'tablets'\n",
      " 'tablets' 'tablets' 'tablets' 'tablets' 'solution' 'tablets' 'tablets'\n",
      " 'tablets' 'solution' 'tablets' 'tablets' 'capsules' 'solution' 'tablets'\n",
      " 'tablets' 'tablets' 'tablets' 'tablets' 'tablets' 'solution' 'tablets'\n",
      " 'tablets' 'tablets' 'tablets' 'tablets' 'tablets' 'tablets' 'tablets'\n",
      " 'tablets' 'tablets' 'tablets' 'tablets' 'tablets' 'tablets' 'tablets'\n",
      " 'tablets' 'tablets' 'tablets' 'tablets' 'tablets' 'tablets' 'tablets'\n",
      " 'tablets' 'tablets' 'tablets' 'tablets' 'tablets' 'tablets' 'tablets'\n",
      " 'tablets' 'tablets' 'tablets' 'tablets' 'tablets' 'tablets' 'tablets']\n"
     ]
    }
   ],
   "source": [
    "NEEDED = ['% Excreted Unchanged in Urine', 'CLogP', 'Measured LogD74', 'Measured LogS (molar)', 'PSA', 'Formulation']\n",
    "INPUTS = NEEDED[:-1]\n",
    "OUTPUT = NEEDED[-1]\n",
    "\n",
    "clean_data = predict_missing_value.data_dropna(filled_data, NEEDED, NEEDED)\n",
    "\n",
    "new_model = classification.predict(clean_data[INPUTS], clean_data[OUTPUT])"
   ]
  },
  {
   "cell_type": "code",
   "execution_count": 9,
   "metadata": {},
   "outputs": [],
   "source": [
    "name_list = ['capsules', 'solution', 'tablets', 'overall accuracy']\n",
    "original_accuracy = [0.67, 0.40, 0.65, 0.61]\n",
    "after_accuracy = [0.50, 0.62, 0.66, 0.65]"
   ]
  },
  {
   "cell_type": "markdown",
   "metadata": {},
   "source": [
    "Make a bar plot to contrast accuracy before and after filling missing data"
   ]
  },
  {
   "cell_type": "code",
   "execution_count": 10,
   "metadata": {},
   "outputs": [
    {
     "data": {
      "text/plain": [
       "([<matplotlib.axis.XTick at 0x7f8e802e74d0>,\n",
       "  <matplotlib.axis.XTick at 0x7f8e8034b510>,\n",
       "  <matplotlib.axis.XTick at 0x7f8eae3fa610>,\n",
       "  <matplotlib.axis.XTick at 0x7f8e803d2d90>],\n",
       " <a list of 4 Text xticklabel objects>)"
      ]
     },
     "execution_count": 10,
     "metadata": {},
     "output_type": "execute_result"
    },
    {
     "data": {
      "image/png": "[encoded data removed]",
      "text/plain": [
       "<Figure size 432x288 with 1 Axes>"
      ]
     },
     "metadata": {
      "needs_background": "light"
     },
     "output_type": "display_data"
    }
   ],
   "source": [
    "width = 0.2\n",
    "\n",
    "#plt.figure(figsize=(5, 3), dpi=600)\n",
    "\n",
    "x = np.arange(len(original_accuracy))\n",
    "plt.bar(x, original_accuracy, width=width, label='Without data filling')\n",
    "\n",
    "x = x + width\n",
    "plt.bar(x, after_accuracy, width=width, label='With data filling', )\n",
    "\n",
    "plt.legend()\n",
    "plt.title(\"\",size=12)\n",
    "plt.ylabel('Accuracy', size=14)\n",
    "plt.ylim(0, 1)\n",
    "plt.xlabel('Formulation', size=14)\n",
    "plt.xticks(ticks=x-width/2, labels=name_list)"
   ]
  },
  {
   "cell_type": "markdown",
   "metadata": {},
   "source": [
    "## Part 4 - Choose best predictors"
   ]
  },
  {
   "cell_type": "markdown",
   "metadata": {},
   "source": [
    "By choosing different input factors, the accuracy could be different. "
   ]
  },
  {
   "cell_type": "code",
   "execution_count": 11,
   "metadata": {},
   "outputs": [
    {
     "name": "stdout",
     "output_type": "stream",
     "text": [
      "Accuracy: 0.6233766233766234\n",
      "\n",
      " Feature Importance \n",
      " PSA                      0.371666\n",
      "Measured LogD74          0.324485\n",
      "Measured LogS (molar)    0.303849\n",
      "dtype: float64\n",
      "\n",
      " Classicifation report\n",
      "               precision    recall  f1-score   support\n",
      "\n",
      "    capsules       0.25      0.17      0.20        12\n",
      "    solution       0.71      0.29      0.42        17\n",
      "     tablets       0.66      0.85      0.75        48\n",
      "\n",
      "    accuracy                           0.62        77\n",
      "   macro avg       0.54      0.44      0.45        77\n",
      "weighted avg       0.61      0.62      0.59        77\n",
      "\n",
      "The predict Classicifation for all \n",
      " ['capsules' 'tablets' 'tablets' 'tablets' 'capsules' 'tablets' 'solution'\n",
      " 'tablets' 'solution' 'tablets' 'tablets' 'tablets' 'tablets' 'solution'\n",
      " 'tablets' 'capsules' 'tablets' 'tablets' 'capsules' 'tablets' 'tablets'\n",
      " 'tablets' 'tablets' 'tablets' 'tablets' 'solution' 'tablets' 'tablets'\n",
      " 'tablets' 'solution' 'tablets' 'tablets' 'capsules' 'tablets' 'tablets'\n",
      " 'tablets' 'tablets' 'tablets' 'tablets' 'tablets' 'solution' 'tablets'\n",
      " 'tablets' 'tablets' 'tablets' 'capsules' 'tablets' 'tablets' 'tablets'\n",
      " 'tablets' 'tablets' 'tablets' 'tablets' 'capsules' 'tablets' 'solution'\n",
      " 'tablets' 'tablets' 'tablets' 'tablets' 'tablets' 'tablets' 'capsules'\n",
      " 'tablets' 'tablets' 'tablets' 'tablets' 'tablets' 'tablets' 'tablets'\n",
      " 'tablets' 'tablets' 'tablets' 'tablets' 'tablets' 'tablets' 'tablets']\n"
     ]
    },
    {
     "data": {
      "text/plain": [
       "0.6493506493506493"
      ]
     },
     "execution_count": 11,
     "metadata": {},
     "output_type": "execute_result"
    }
   ],
   "source": [
    "classification.determine_new_accuracy(3, clean_data[INPUTS], clean_data[OUTPUT])"
   ]
  },
  {
   "cell_type": "code",
   "execution_count": 12,
   "metadata": {},
   "outputs": [
    {
     "name": "stdout",
     "output_type": "stream",
     "text": [
      "Accuracy: 0.6623376623376623\n",
      "\n",
      " Feature Importance \n",
      " Measured LogD74          0.342122\n",
      "CLogP                    0.336454\n",
      "Measured LogS (molar)    0.321425\n",
      "dtype: float64\n",
      "\n",
      " Classicifation report\n",
      "               precision    recall  f1-score   support\n",
      "\n",
      "    capsules       0.50      0.17      0.25        12\n",
      "    solution       0.67      0.24      0.35        17\n",
      "     tablets       0.67      0.94      0.78        48\n",
      "\n",
      "    accuracy                           0.66        77\n",
      "   macro avg       0.61      0.45      0.46        77\n",
      "weighted avg       0.64      0.66      0.60        77\n",
      "\n",
      "The predict Classicifation for all \n",
      " ['tablets' 'capsules' 'tablets' 'tablets' 'tablets' 'tablets' 'solution'\n",
      " 'tablets' 'solution' 'tablets' 'solution' 'solution' 'tablets' 'tablets'\n",
      " 'tablets' 'tablets' 'tablets' 'tablets' 'capsules' 'tablets' 'tablets'\n",
      " 'tablets' 'tablets' 'tablets' 'tablets' 'solution' 'tablets' 'tablets'\n",
      " 'tablets' 'tablets' 'tablets' 'tablets' 'capsules' 'tablets' 'tablets'\n",
      " 'tablets' 'tablets' 'capsules' 'tablets' 'tablets' 'tablets' 'tablets'\n",
      " 'tablets' 'tablets' 'tablets' 'tablets' 'tablets' 'tablets' 'tablets'\n",
      " 'tablets' 'tablets' 'tablets' 'tablets' 'tablets' 'tablets' 'tablets'\n",
      " 'tablets' 'tablets' 'tablets' 'tablets' 'tablets' 'tablets' 'tablets'\n",
      " 'tablets' 'tablets' 'solution' 'tablets' 'tablets' 'tablets' 'tablets'\n",
      " 'tablets' 'tablets' 'tablets' 'tablets' 'tablets' 'tablets' 'tablets']\n"
     ]
    },
    {
     "data": {
      "text/plain": [
       "0.6623376623376623"
      ]
     },
     "execution_count": 12,
     "metadata": {},
     "output_type": "execute_result"
    }
   ],
   "source": [
    "classification.determine_new_accuracy(3, clean_data[NEEDED[:-2]], clean_data[OUTPUT])"
   ]
  },
  {
   "cell_type": "code",
   "execution_count": 13,
   "metadata": {},
   "outputs": [
    {
     "name": "stdout",
     "output_type": "stream",
     "text": [
      "Accuracy: 0.6493506493506493\n",
      "\n",
      " Feature Importance \n",
      " PSA                      0.369939\n",
      "Measured LogD74          0.323903\n",
      "Measured LogS (molar)    0.306158\n",
      "dtype: float64\n",
      "\n",
      " Classicifation report\n",
      "               precision    recall  f1-score   support\n",
      "\n",
      "    capsules       0.25      0.17      0.20        12\n",
      "    solution       0.75      0.35      0.48        17\n",
      "     tablets       0.69      0.88      0.77        48\n",
      "\n",
      "    accuracy                           0.65        77\n",
      "   macro avg       0.56      0.46      0.48        77\n",
      "weighted avg       0.63      0.65      0.62        77\n",
      "\n",
      "The predict Classicifation for all \n",
      " ['capsules' 'tablets' 'tablets' 'tablets' 'capsules' 'tablets' 'solution'\n",
      " 'tablets' 'solution' 'tablets' 'solution' 'tablets' 'tablets' 'solution'\n",
      " 'tablets' 'capsules' 'tablets' 'tablets' 'capsules' 'tablets' 'tablets'\n",
      " 'tablets' 'tablets' 'tablets' 'tablets' 'solution' 'solution' 'tablets'\n",
      " 'tablets' 'solution' 'tablets' 'tablets' 'capsules' 'tablets' 'tablets'\n",
      " 'tablets' 'tablets' 'tablets' 'tablets' 'tablets' 'tablets' 'tablets'\n",
      " 'tablets' 'tablets' 'tablets' 'capsules' 'tablets' 'tablets' 'tablets'\n",
      " 'tablets' 'tablets' 'tablets' 'tablets' 'tablets' 'tablets' 'solution'\n",
      " 'tablets' 'tablets' 'tablets' 'tablets' 'tablets' 'tablets' 'capsules'\n",
      " 'tablets' 'tablets' 'tablets' 'tablets' 'tablets' 'tablets' 'tablets'\n",
      " 'tablets' 'tablets' 'tablets' 'tablets' 'tablets' 'tablets' 'capsules']\n"
     ]
    },
    {
     "data": {
      "text/plain": [
       "0.6233766233766234"
      ]
     },
     "execution_count": 13,
     "metadata": {},
     "output_type": "execute_result"
    }
   ],
   "source": [
    "classification.determine_new_accuracy(3, clean_data[NEEDED[1:5]], clean_data[OUTPUT])"
   ]
  },
  {
   "cell_type": "markdown",
   "metadata": {},
   "source": [
    "## Part 5 - Choose best hyperparameters"
   ]
  },
  {
   "cell_type": "code",
   "execution_count": 14,
   "metadata": {},
   "outputs": [
    {
     "name": "stdout",
     "output_type": "stream",
     "text": [
      "max depth: 1, n_estimators: 1, accuracy: 0.658117\n",
      "max depth: 1, n_estimators: 51, accuracy: 0.664627\n",
      "max depth: 1, n_estimators: 101, accuracy: 0.669874\n",
      "max depth: 1, n_estimators: 151, accuracy: 0.671172\n",
      "max depth: 2, n_estimators: 1, accuracy: 0.645096\n",
      "max depth: 2, n_estimators: 51, accuracy: 0.671172\n",
      "max depth: 2, n_estimators: 101, accuracy: 0.676401\n",
      "max depth: 2, n_estimators: 151, accuracy: 0.676384\n",
      "max depth: 3, n_estimators: 1, accuracy: 0.643729\n",
      "max depth: 3, n_estimators: 51, accuracy: 0.676384\n",
      "max depth: 3, n_estimators: 101, accuracy: 0.673770\n",
      "max depth: 3, n_estimators: 151, accuracy: 0.675068\n",
      "max depth: 4, n_estimators: 1, accuracy: 0.638602\n",
      "max depth: 4, n_estimators: 51, accuracy: 0.665926\n",
      "max depth: 4, n_estimators: 101, accuracy: 0.671155\n",
      "max depth: 4, n_estimators: 151, accuracy: 0.673753\n",
      "Best accuracy for solution: 0.385093\n",
      "Best accuracy for capsules: 0.069715\n",
      "Best accuracy for tablets: 0.797468\n",
      "Best accuracy for total: 0.676401\n"
     ]
    }
   ],
   "source": [
    "max_depth = range(1, 5)\n",
    "n_trees = range(1, 200, 50)\n",
    "results = cross_validate.cross_validate_grid_search(\n",
    "            [max_depth, n_trees], clean_data[INPUTS], clean_data[OUTPUT].to_frame())"
   ]
  },
  {
   "cell_type": "code",
   "execution_count": 15,
   "metadata": {},
   "outputs": [
    {
     "name": "stdout",
     "output_type": "stream",
     "text": [
      "Best max_depth: 2, best n_estimators: 101\n",
      "Best parameter for solution catogory: [3, 51]\n",
      "Best parameter for capsules catogory: [4, 1]\n",
      "Best parameter for tablets catogory: [2, 151]\n"
     ]
    }
   ],
   "source": [
    "best_for_total = results[0]\n",
    "best_for_solution = results[1]\n",
    "best_for_capsules = results[2]\n",
    "best_for_tablets = results[3]\n",
    "\n",
    "print('Best max_depth: {:d}, best n_estimators: {:d}'.format(\n",
    "                    best_for_total[0], best_for_total[1]))\n",
    "print('Best parameter for solution catogory:', best_for_solution)\n",
    "print('Best parameter for capsules catogory:', best_for_capsules)\n",
    "print('Best parameter for tablets catogory:', best_for_tablets)"
   ]
  },
  {
   "cell_type": "code",
   "execution_count": null,
   "metadata": {},
   "outputs": [],
   "source": []
  }
 ],
 "metadata": {
  "kernelspec": {
   "display_name": "Python 3",
   "language": "python",
   "name": "python3"
  },
  "language_info": {
   "codemirror_mode": {
    "name": "ipython",
    "version": 3
   },
   "file_extension": ".py",
   "mimetype": "text/x-python",
   "name": "python",
   "nbconvert_exporter": "python",
   "pygments_lexer": "ipython3",
   "version": "3.7.6"
  }
 },
 "nbformat": 4,
 "nbformat_minor": 4
}
