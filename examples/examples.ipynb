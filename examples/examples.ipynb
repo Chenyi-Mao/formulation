{
 "cells": [
  {
   "cell_type": "markdown",
   "metadata": {},
   "source": [
    "# Example notebook\n",
    " This notebook contains demo for how each module works and expected outputs\n",
    "### Part 1 - Get everything ready\n",
    "Importing modules"
   ]
  },
  {
   "cell_type": "code",
   "execution_count": null,
   "metadata": {},
   "outputs": [],
   "source": [
    "import sys\n",
    "sys.path.append('..')\n",
    "\n",
    "import numpy as np\n",
    "import pandas as pd\n",
    "import matplotlib.pyplot as plt\n",
    "\n",
    "from formulation.modules import classification\n",
    "from formulation.modules import cross_validate\n",
    "from formulation.modules import importance\n",
    "from formulation.modules import predict\n",
    "from formulation.modules import predict_missing_value\n",
    "from sklearn.model_selection import train_test_split"
   ]
  },
  {
   "cell_type": "markdown",
   "metadata": {},
   "source": [
    "Reading data"
   ]
  },
  {
   "cell_type": "code",
   "execution_count": null,
   "metadata": {},
   "outputs": [],
   "source": [
    "data = pd.read_csv(\"../formulation/data/FDA_APPROVED.csv\")\n",
    "data"
   ]
  },
  {
   "cell_type": "markdown",
   "metadata": {},
   "source": [
    "Defining which features to be used as inputs and outputs"
   ]
  },
  {
   "cell_type": "code",
   "execution_count": null,
   "metadata": {},
   "outputs": [],
   "source": [
    "NEEDED = ['% Excreted Unchanged in Urine', 'CLogP', 'HBA', 'HBD', 'PSA', 'Formulation']\n",
    "INPUTS = NEEDED[:-1]\n",
    "OUTPUT = NEEDED[-1]"
   ]
  },
  {
   "cell_type": "markdown",
   "metadata": {},
   "source": [
    "## Part 2 - Train the model"
   ]
  },
  {
   "cell_type": "markdown",
   "metadata": {},
   "source": [
    "Eliminating data points with missing values (NaN) and splitting data into train and test sets"
   ]
  },
  {
   "cell_type": "code",
   "execution_count": null,
   "metadata": {},
   "outputs": [],
   "source": [
    "clean_data = predict_missing_value.data_dropna(data, NEEDED, NEEDED)\n",
    "train, test = train_test_split(clean_data, test_size=0.1, random_state=1010)"
   ]
  },
  {
   "cell_type": "markdown",
   "metadata": {},
   "source": [
    "`classification.predict` function takes in training data and inside the training data, 10% will be used as validation set.  \n",
    "During training, the function will print out feature importance and accuracy on the validation set"
   ]
  },
  {
   "cell_type": "code",
   "execution_count": null,
   "metadata": {
    "scrolled": false
   },
   "outputs": [],
   "source": [
    "model = classification.predict(train[INPUTS], train[OUTPUT])"
   ]
  },
  {
   "cell_type": "markdown",
   "metadata": {},
   "source": [
    "Using the trained model to predict formulation by calling `predict.predict`"
   ]
  },
  {
   "cell_type": "code",
   "execution_count": null,
   "metadata": {
    "scrolled": true
   },
   "outputs": [],
   "source": [
    "predict.predict(model, test[INPUTS])"
   ]
  },
  {
   "cell_type": "markdown",
   "metadata": {},
   "source": [
    "## Part 3 - Fill missing value"
   ]
  },
  {
   "cell_type": "markdown",
   "metadata": {},
   "source": [
    "Sometime, there might be missing values in data set. We can either drop those data (showed above) or use regression methods to fill those data. For example, we can use other features to fill missing values in solubility parameters."
   ]
  },
  {
   "cell_type": "code",
   "execution_count": null,
   "metadata": {},
   "outputs": [],
   "source": [
    "NEEDED = ['MW Drug', 'MW Sol', 'CLogP', 'HBA', 'HBD', 'PSDA', 'ALOGPS 2.1 solubility', 'Measured LogD74']\n",
    "INPUTS = NEEDED[:-1]\n",
    "OUTPUT = NEEDED[-1]\n",
    "\n",
    "filled_data = predict_missing_value.fill_missing_value(data, NEEDED, INPUTS, OUTPUT)\n",
    "\n",
    "\n",
    "NEEDED = ['MW Drug', 'MW Sol', 'CLogP', 'HBA', 'HBD', 'PSDA', 'ALOGPS 2.1 solubility', 'Measured LogS (molar)']\n",
    "INPUTS = NEEDED[:-1]\n",
    "OUTPUT = NEEDED[-1]\n",
    "\n",
    "filled_data = predict_missing_value.fill_missing_value(filled_data, NEEDED, INPUTS, OUTPUT)"
   ]
  },
  {
   "cell_type": "markdown",
   "metadata": {},
   "source": [
    "Use the filled data to train a new model"
   ]
  },
  {
   "cell_type": "code",
   "execution_count": null,
   "metadata": {},
   "outputs": [],
   "source": [
    "NEEDED = ['% Excreted Unchanged in Urine', 'CLogP', 'Measured LogD74', 'Measured LogS (molar)', 'PSA', 'Formulation']\n",
    "INPUTS = NEEDED[:-1]\n",
    "OUTPUT = NEEDED[-1]\n",
    "\n",
    "clean_data = predict_missing_value.data_dropna(filled_data, NEEDED, NEEDED)\n",
    "\n",
    "new_model = classification.predict(clean_data[INPUTS], clean_data[OUTPUT])"
   ]
  },
  {
   "cell_type": "code",
   "execution_count": null,
   "metadata": {},
   "outputs": [],
   "source": [
    "name_list = ['capsules', 'solution', 'tablets', 'overall accuracy']\n",
    "original_accuracy = [0.67, 0.40, 0.65, 0.61]\n",
    "after_accuracy = [0.50, 0.62, 0.66, 0.65]"
   ]
  },
  {
   "cell_type": "markdown",
   "metadata": {},
   "source": [
    "Make a bar plot to contrast accuracy before and after filling missing data"
   ]
  },
  {
   "cell_type": "code",
   "execution_count": null,
   "metadata": {},
   "outputs": [],
   "source": [
    "width = 0.2\n",
    "\n",
    "#plt.figure(figsize=(5, 3), dpi=600)\n",
    "\n",
    "x = np.arange(len(original_accuracy))\n",
    "plt.bar(x, original_accuracy, width=width, label='Without data filling')\n",
    "\n",
    "x = x + width\n",
    "plt.bar(x, after_accuracy, width=width, label='With data filling', )\n",
    "\n",
    "plt.legend()\n",
    "plt.title(\"\",size=12)\n",
    "plt.ylabel('Accuracy', size=14)\n",
    "plt.ylim(0, 1)\n",
    "plt.xlabel('Formulation', size=14)\n",
    "plt.xticks(ticks=x-width/2, labels=name_list)"
   ]
  },
  {
   "cell_type": "markdown",
   "metadata": {},
   "source": [
    "## Part 4 - Choose best predictors"
   ]
  },
  {
   "cell_type": "markdown",
   "metadata": {},
   "source": [
    "To evaluate the importance of each preidctor, in both `clean_data` and `filled_data`:"
   ]
  },
  {
   "cell_type": "code",
   "execution_count": null,
   "metadata": {},
   "outputs": [],
   "source": [
    "need = ['% Excreted Unchanged in Urine', 'CLogP', 'HBA', 'HBD', 'PSDA','Formulation']"
   ]
  },
  {
   "cell_type": "code",
   "execution_count": null,
   "metadata": {},
   "outputs": [],
   "source": [
    "clean = predict_missing_value.data_dropna(data, need, need)"
   ]
  },
  {
   "cell_type": "code",
   "execution_count": null,
   "metadata": {
    "scrolled": true
   },
   "outputs": [],
   "source": [
    "importance.importance(clean[need[:-1]], clean[need[-1]], 0.2, [100,300,500,700,1000])"
   ]
  },
  {
   "cell_type": "code",
   "execution_count": null,
   "metadata": {},
   "outputs": [],
   "source": [
    "importance.importance(filled_data[need].dropna()[need[:-1]], filled_data[need].dropna()[need[-1]], 0.2, [100,300,500,700,1000])"
   ]
  },
  {
   "cell_type": "markdown",
   "metadata": {},
   "source": [
    "The results are shown as the dataframes above.Inputing both `clean_data` and `filled _data` displays similar results. `CLogP` and `PSDA` are the most significant predictors in our Random Forest Model; Subsequently, `HBA` and `excreted unchanged in urine` also play important roles in fitting. `HBD` seems not as important as others. And the Change of n-estimator has little influence on the results."
   ]
  },
  {
   "cell_type": "markdown",
   "metadata": {},
   "source": [
    "By choosing different input factors, the accuracy could be different. "
   ]
  },
  {
   "cell_type": "code",
   "execution_count": null,
   "metadata": {},
   "outputs": [],
   "source": [
    "classification.determine_new_accuracy(3, clean_data[INPUTS], clean_data[OUTPUT])"
   ]
  },
  {
   "cell_type": "code",
   "execution_count": null,
   "metadata": {},
   "outputs": [],
   "source": [
    "classification.determine_new_accuracy(3, clean_data[NEEDED[:-2]], clean_data[OUTPUT])"
   ]
  },
  {
   "cell_type": "code",
   "execution_count": null,
   "metadata": {},
   "outputs": [],
   "source": [
    "classification.determine_new_accuracy(3, clean_data[NEEDED[1:5]], clean_data[OUTPUT])"
   ]
  },
  {
   "cell_type": "markdown",
   "metadata": {},
   "source": [
    "## Part 5 - Choose best hyperparameters"
   ]
  },
  {
   "cell_type": "code",
   "execution_count": null,
   "metadata": {},
   "outputs": [],
   "source": [
    "max_depth = range(1, 5)\n",
    "n_trees = range(1, 200, 50)\n",
    "results = cross_validate.cross_validate_grid_search(\n",
    "            [max_depth, n_trees], clean_data[INPUTS], clean_data[OUTPUT].to_frame())"
   ]
  },
  {
   "cell_type": "code",
   "execution_count": null,
   "metadata": {},
   "outputs": [],
   "source": [
    "best_for_total = results[0]\n",
    "best_for_solution = results[1]\n",
    "best_for_capsules = results[2]\n",
    "best_for_tablets = results[3]\n",
    "\n",
    "print('Best max_depth: {:d}, best n_estimators: {:d}'.format(\n",
    "                    best_for_total[0], best_for_total[1]))\n",
    "print('Best parameter for solution catogory:', best_for_solution)\n",
    "print('Best parameter for capsules catogory:', best_for_capsules)\n",
    "print('Best parameter for tablets catogory:', best_for_tablets)"
   ]
  }
 ],
 "metadata": {
  "kernelspec": {
   "display_name": "Python 3",
   "language": "python",
   "name": "python3"
  },
  "language_info": {
   "codemirror_mode": {
    "name": "ipython",
    "version": 3
   },
   "file_extension": ".py",
   "mimetype": "text/x-python",
   "name": "python",
   "nbconvert_exporter": "python",
   "pygments_lexer": "ipython3",
   "version": "3.7.6"
  }
 },
 "nbformat": 4,
 "nbformat_minor": 4
}
