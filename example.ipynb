{
 "cells": [
  {
   "cell_type": "code",
   "execution_count": 8,
   "metadata": {
    "scrolled": false
   },
   "outputs": [],
   "source": [
    "import numpy as np\n",
    "import pandas as pd\n",
    "import matplotlib.pyplot as plt\n",
    "\n",
    "from formulation.modules import *"
   ]
  },
  {
   "cell_type": "code",
   "execution_count": null,
   "metadata": {},
   "outputs": [],
   "source": [
    "data = pd.read_csv(\"FDA_APPROVED.csv\")"
   ]
  },
  {
   "cell_type": "code",
   "execution_count": null,
   "metadata": {},
   "outputs": [],
   "source": [
    "NEEDED = ['% Excreted Unchanged in Urine', 'CLogP', 'HBA', 'HBD', 'PSA', 'Formulation']\n",
    "INPUTS = NEEDED[:-1]\n",
    "OUTPUT = NEEDED[-1]"
   ]
  },
  {
   "cell_type": "code",
   "execution_count": null,
   "metadata": {},
   "outputs": [],
   "source": [
    "clean_data = predict_missing_value.data_dropna(data, NEEDED, NEEDED)"
   ]
  },
  {
   "cell_type": "code",
   "execution_count": null,
   "metadata": {},
   "outputs": [],
   "source": [
    "clean_data"
   ]
  },
  {
   "cell_type": "code",
   "execution_count": null,
   "metadata": {},
   "outputs": [],
   "source": [
    "classification.predict(clean_data[INPUTS], clean_data[OUTPUT])"
   ]
  },
  {
   "cell_type": "code",
   "execution_count": null,
   "metadata": {},
   "outputs": [],
   "source": [
    "name_list = ['capsules', 'solution', 'tablets', 'overall accuracy']"
   ]
  },
  {
   "cell_type": "code",
   "execution_count": null,
   "metadata": {},
   "outputs": [],
   "source": [
    "original_accuracy = [0.50, 0.20, 0.77, 0.49]"
   ]
  },
  {
   "cell_type": "code",
   "execution_count": null,
   "metadata": {},
   "outputs": [],
   "source": [
    "NEEDED = ['MW Drug', 'MW Sol', 'CLogP', 'HBA', 'HBD', 'PSDA', 'ALOGPS 2.1 solubility', 'Measured LogD74']\n",
    "INPUTS = NEEDED[:-1]\n",
    "OUTPUT = NEEDED[-1]\n",
    "\n",
    "filled_data = predict_missing_value.fill_missing_value(data, NEEDED, INPUTS, OUTPUT)\n",
    "\n",
    "\n",
    "NEEDED = ['MW Drug', 'MW Sol', 'CLogP', 'HBA', 'HBD', 'PSDA', 'ALOGPS 2.1 solubility', 'Measured LogS (molar)']\n",
    "INPUTS = NEEDED[:-1]\n",
    "OUTPUT = NEEDED[-1]\n",
    "\n",
    "filled_data = predict_missing_value.fill_missing_value(filled_data, NEEDED, INPUTS, OUTPUT)"
   ]
  },
  {
   "cell_type": "code",
   "execution_count": null,
   "metadata": {},
   "outputs": [],
   "source": [
    "NEEDED = ['% Excreted Unchanged in Urine', 'CLogP', 'Measured LogD74', 'Measured LogS (molar)', 'PSA', 'Formulation']\n",
    "INPUTS = NEEDED[:-1]\n",
    "OUTPUT = NEEDED[-1]\n",
    "\n",
    "clean_data = predict_missing_value.data_dropna(filled_data, NEEDED, NEEDED)\n",
    "clean_data.shape"
   ]
  },
  {
   "cell_type": "code",
   "execution_count": null,
   "metadata": {
    "scrolled": false
   },
   "outputs": [],
   "source": [
    "classification.predict(clean_data[INPUTS], clean_data[OUTPUT])"
   ]
  },
  {
   "cell_type": "code",
   "execution_count": null,
   "metadata": {},
   "outputs": [],
   "source": [
    "after_accuracy = [0.50, 0.62, 0.66, 0.63]"
   ]
  },
  {
   "cell_type": "code",
   "execution_count": null,
   "metadata": {},
   "outputs": [],
   "source": [
    "width = 0.3\n",
    "\n",
    "plt.figure(figsize=(6, 4), dpi=600)\n",
    "\n",
    "x = np.arange(len(original_accuracy))\n",
    "plt.bar(x, original_accuracy, width=width, label='Without data filling')\n",
    "\n",
    "x = x + width\n",
    "plt.bar(x, after_accuracy, width=width, label='With data filling', )\n",
    "plt.legend()\n",
    "\n",
    "plt.title(\"\",size=18)\n",
    "plt.ylabel('Accuracy', size=16)\n",
    "plt.ylim(0, 1)\n",
    "plt.xlabel('Formulation', size=16)\n",
    "plt.xticks(ticks=x-width/2, labels=name_list)"
   ]
  },
  {
   "cell_type": "code",
   "execution_count": null,
   "metadata": {},
   "outputs": [],
   "source": []
  }
 ],
 "metadata": {
  "kernelspec": {
   "display_name": "Python 3",
   "language": "python",
   "name": "python3"
  },
  "language_info": {
   "codemirror_mode": {
    "name": "ipython",
    "version": 3
   },
   "file_extension": ".py",
   "mimetype": "text/x-python",
   "name": "python",
   "nbconvert_exporter": "python",
   "pygments_lexer": "ipython3",
   "version": "3.7.6"
  }
 },
 "nbformat": 4,
 "nbformat_minor": 4
}
